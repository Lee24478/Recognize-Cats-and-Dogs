{
  "nbformat": 4,
  "nbformat_minor": 0,
  "metadata": {
    "colab": {
      "name": "使用 CNN 辨識貓及狗的圖片.ipynb",
      "provenance": [],
      "collapsed_sections": []
    },
    "kernelspec": {
      "name": "python3",
      "display_name": "Python 3"
    },
    "language_info": {
      "name": "python"
    }
  },
  "cells": [
    {
      "cell_type": "code",
      "execution_count": null,
      "metadata": {
        "colab": {
          "base_uri": "https://localhost:8080/"
        },
        "id": "fQ_R9dI3KhR7",
        "outputId": "d94807cf-779c-4bdd-95cf-94b7d86b8c5e"
      },
      "outputs": [
        {
          "output_type": "stream",
          "name": "stdout",
          "text": [
            "Mounted at /content/drive\n"
          ]
        }
      ],
      "source": [
        "from google.colab import drive\n",
        "drive.mount('/content/drive')\n",
        "\n",
        "import os\n",
        "os.chdir('/content/drive/MyDrive/Colab Notebooks/人工智慧/CNN辨識貓&狗')"
      ]
    },
    {
      "cell_type": "markdown",
      "source": [
        "### 解壓縮檔案\n"
      ],
      "metadata": {
        "id": "YiDs2eueR45e"
      }
    },
    {
      "cell_type": "code",
      "source": [
        "!unzip archive.zip"
      ],
      "metadata": {
        "id": "zxVMyMPxKxgr"
      },
      "execution_count": null,
      "outputs": []
    },
    {
      "cell_type": "code",
      "source": [
        "import os, shutil\n",
        "\n",
        "root_dir = '/content/drive/My Drive/Colab Notebooks/人工智慧/CNN辨識貓&狗/'  #解壓縮資料夾所在的目錄路徑\n",
        "#if not os.path.isdir(root_dir): \n",
        "#  os.mkdir(root_dir)  #如果目錄不存在, 才建立目錄\n",
        "\n",
        "# store our smaller dataset（保存較小數據集的目錄）\n",
        "base_dir = os.path.join(root_dir,'cats_and_dogs_small')\n",
        "if not os.path.exists(base_dir):\n",
        "    os.mkdir(base_dir)\n",
        "###訓練集###\n",
        "train_dir = os.path.join(base_dir, 'train') #訓練集的目錄位置\n",
        "if not os.path.exists(train_dir):\n",
        "    os.mkdir(train_dir)\n",
        "\n",
        "train_cats_dir = os.path.join(train_dir, 'cats') #用來訓練貓圖片的目錄位置\n",
        "if not os.path.exists(train_cats_dir):\n",
        "    os.mkdir(train_cats_dir)\n",
        " \n",
        "train_dogs_dir = os.path.join(train_dir, 'dogs') #用來訓練狗圖片的目錄位置\n",
        "if not os.path.exists(train_dogs_dir):\n",
        "    os.mkdir(train_dogs_dir)\n",
        "###驗證集###\n",
        "validation_dir = os.path.join(base_dir, 'validation') #驗證集的目錄位置\n",
        "if not os.path.exists(validation_dir):\n",
        "    os.mkdir(validation_dir)\n",
        "    \n",
        "validation_cats_dir = os.path.join(validation_dir, 'cats') #用來驗證貓圖片的目錄位置\n",
        "if not os.path.exists(validation_cats_dir):\n",
        "    os.mkdir(validation_cats_dir)\n",
        "\n",
        "validation_dogs_dir = os.path.join(validation_dir, 'dogs') #用來驗證狗圖片的目錄位置\n",
        "if not os.path.exists(validation_dogs_dir):\n",
        "    os.mkdir(validation_dogs_dir)\n",
        "###測試集###\n",
        "test_dir = os.path.join(base_dir, 'test') #測試集的目錄位置\n",
        "if not os.path.exists(test_dir):\n",
        "    os.mkdir(test_dir)\n",
        "  \n",
        "test_cats_dir = os.path.join(test_dir, 'cats') #用來測試貓圖片的目錄位置\n",
        "if not os.path.exists(test_cats_dir):\n",
        "    os.mkdir(test_cats_dir)\n",
        "\n",
        "test_dogs_dir = os.path.join(test_dir, 'dogs') #用來測試狗圖片的目錄位置\n",
        "if not os.path.exists(test_dogs_dir):\n",
        "    os.mkdir(test_dogs_dir)"
      ],
      "metadata": {
        "id": "4V9ObFUFKx3a"
      },
      "execution_count": null,
      "outputs": []
    },
    {
      "cell_type": "markdown",
      "source": [
        "## 複製圖像至小型數據集"
      ],
      "metadata": {
        "id": "jScEasvJ-U6B"
      }
    },
    {
      "cell_type": "code",
      "source": [
        "###貓###\n",
        "\n",
        "#將前1000張貓的圖像複製到 train_cats_dir\n",
        "fnames = ['cat.{}.jpg'.format(i) for i in range(1,1001)]\n",
        "for fname in fnames:\n",
        "    src = os.path.join(root_dir,'training_set/cats/', fname)\n",
        "    dst = os.path.join(train_cats_dir, fname)\n",
        "    shutil.copyfile(src, dst)\n",
        "\n",
        "#將接下來500張貓的圖像複製到 validation_cats_dir\n",
        "fnames = ['cat.{}.jpg'.format(i) for i in range(1001, 1501)]\n",
        "for fname in fnames:\n",
        "    src = os.path.join(root_dir,'training_set/cats/', fname)\n",
        "    dst = os.path.join(validation_cats_dir, fname)\n",
        "    shutil.copyfile(src, dst)\n",
        "    \n",
        "#將接下來的500張貓的圖像複製到 test_cats_dir\n",
        "fnames = ['cat.{}.jpg'.format(i) for i in range(1501, 2001)]\n",
        "for fname in fnames:\n",
        "    src = os.path.join(root_dir,'training_set/cats/', fname)\n",
        "    dst = os.path.join(test_cats_dir, fname)\n",
        "    shutil.copyfile(src, dst)\n",
        "    \n",
        "###狗###\n",
        "\n",
        "#將前1000張狗的圖像複製到 train_dogs_dir\n",
        "fnames = ['dog.{}.jpg'.format(i) for i in range(1,1001)]\n",
        "for fname in fnames:\n",
        "    src = os.path.join(root_dir,'training_set/dogs/', fname)\n",
        "    dst = os.path.join(train_dogs_dir, fname)\n",
        "    shutil.copyfile(src, dst)\n",
        "\n",
        "#將接下來500張狗的圖像複製到 validation_dogs_dir\n",
        "fnames = ['dog.{}.jpg'.format(i) for i in range(1001, 1501)]\n",
        "for fname in fnames:\n",
        "    src = os.path.join(root_dir,'training_set/dogs/', fname)\n",
        "    dst = os.path.join(validation_dogs_dir, fname)\n",
        "    shutil.copyfile(src, dst)\n",
        "    \n",
        "#將接下來500張狗的圖像複製到 test_dogs_dir\n",
        "fnames = ['dog.{}.jpg'.format(i) for i in range(1501, 2001)]\n",
        "for fname in fnames:\n",
        "    src = os.path.join(root_dir,'training_set/dogs/', fname)\n",
        "    dst = os.path.join(test_dogs_dir, fname)\n",
        "    shutil.copyfile(src, dst)"
      ],
      "metadata": {
        "id": "m6_KqW4b-esE"
      },
      "execution_count": null,
      "outputs": []
    },
    {
      "cell_type": "code",
      "source": [
        "print('###training###')\n",
        "print('訓練用的貓照片張數:', len(os.listdir(train_cats_dir)))\n",
        "print('訓練用的狗照片張數:', len(os.listdir(train_dogs_dir)))\n",
        "print('###validing###')\n",
        "print('驗證用的貓照片張數:', len(os.listdir(validation_cats_dir)))\n",
        "print('驗證驗證用的狗照片張數:', len(os.listdir(validation_dogs_dir)))\n",
        "print('###testing###')\n",
        "print('測試用的貓照片張數:', len(os.listdir(test_cats_dir)))\n",
        "print('測試用的狗照片張數:', len(os.listdir(test_dogs_dir)))"
      ],
      "metadata": {
        "colab": {
          "base_uri": "https://localhost:8080/"
        },
        "id": "qFY8R3ZsKyBA",
        "outputId": "46353d5d-a3fa-4d55-ff47-b4e7de508ae3"
      },
      "execution_count": null,
      "outputs": [
        {
          "output_type": "stream",
          "name": "stdout",
          "text": [
            "###training###\n",
            "訓練用的貓照片張數: 1000\n",
            "訓練用的狗照片張數: 1000\n",
            "###validing###\n",
            "驗證用的貓照片張數: 500\n",
            "驗證驗證用的狗照片張數: 500\n",
            "###testing###\n",
            "測試用的貓照片張數: 500\n",
            "測試用的狗照片張數: 500\n"
          ]
        }
      ]
    },
    {
      "cell_type": "markdown",
      "source": [
        "### 為狗 vs. 貓分類實作的一個小型的卷積神經網路"
      ],
      "metadata": {
        "id": "MrX4JFy0Rm4y"
      }
    },
    {
      "cell_type": "code",
      "source": [
        "from tensorflow.keras import layers\n",
        "from tensorflow.keras import models\n",
        "\n",
        "model = models.Sequential()\n",
        "model.add(layers.Conv2D(32, (3, 3), activation='relu',\n",
        "                        input_shape=(150, 150, 3)))\n",
        "# 注意 : 等一下輸入的貓狗圖形大小必須是150×150 RGB 的圖形格式.\n",
        "model.add(layers.MaxPooling2D((2, 2)))\n",
        "model.add(layers.Conv2D(64, (3, 3), activation='relu'))\n",
        "model.add(layers.MaxPooling2D((2, 2)))\n",
        "model.add(layers.Conv2D(128, (3, 3), activation='relu'))\n",
        "model.add(layers.MaxPooling2D((2, 2)))\n",
        "model.add(layers.Conv2D(128, (3, 3), activation='relu'))\n",
        "model.add(layers.MaxPooling2D((2, 2)))\n",
        "model.add(layers.Flatten())\n",
        "model.add(layers.Dense(512, activation='relu'))\n",
        "model.add(layers.Dense(1, activation='sigmoid'))\n",
        "model.summary()  # 查看模型摘要"
      ],
      "metadata": {
        "colab": {
          "base_uri": "https://localhost:8080/"
        },
        "id": "f_XKJXCgKyV4",
        "outputId": "75a7aad8-cc29-485c-f470-9a1f76550c4b"
      },
      "execution_count": null,
      "outputs": [
        {
          "output_type": "stream",
          "name": "stdout",
          "text": [
            "Model: \"sequential_4\"\n",
            "_________________________________________________________________\n",
            " Layer (type)                Output Shape              Param #   \n",
            "=================================================================\n",
            " conv2d_16 (Conv2D)          (None, 148, 148, 32)      896       \n",
            "                                                                 \n",
            " max_pooling2d_16 (MaxPoolin  (None, 74, 74, 32)       0         \n",
            " g2D)                                                            \n",
            "                                                                 \n",
            " conv2d_17 (Conv2D)          (None, 72, 72, 64)        18496     \n",
            "                                                                 \n",
            " max_pooling2d_17 (MaxPoolin  (None, 36, 36, 64)       0         \n",
            " g2D)                                                            \n",
            "                                                                 \n",
            " conv2d_18 (Conv2D)          (None, 34, 34, 128)       73856     \n",
            "                                                                 \n",
            " max_pooling2d_18 (MaxPoolin  (None, 17, 17, 128)      0         \n",
            " g2D)                                                            \n",
            "                                                                 \n",
            " conv2d_19 (Conv2D)          (None, 15, 15, 128)       147584    \n",
            "                                                                 \n",
            " max_pooling2d_19 (MaxPoolin  (None, 7, 7, 128)        0         \n",
            " g2D)                                                            \n",
            "                                                                 \n",
            " flatten_4 (Flatten)         (None, 6272)              0         \n",
            "                                                                 \n",
            " dense_8 (Dense)             (None, 512)               3211776   \n",
            "                                                                 \n",
            " dense_9 (Dense)             (None, 1)                 513       \n",
            "                                                                 \n",
            "=================================================================\n",
            "Total params: 3,453,121\n",
            "Trainable params: 3,453,121\n",
            "Non-trainable params: 0\n",
            "_________________________________________________________________\n"
          ]
        }
      ]
    },
    {
      "cell_type": "markdown",
      "source": [
        "### 配置 model 以進行訓練- optimizer RootMeanSquare with LearningRate = 0.0001"
      ],
      "metadata": {
        "id": "-ESkILwvTxo4"
      }
    },
    {
      "cell_type": "code",
      "source": [
        "from tensorflow.keras import optimizers\n",
        "import tensorflow as tf\n",
        "\n",
        "model.compile(loss='binary_crossentropy',\n",
        "              optimizer=optimizers.RMSprop(learning_rate=1e-4),\n",
        "              metrics=['acc'])"
      ],
      "metadata": {
        "id": "hu7zPmWZKyj3"
      },
      "execution_count": null,
      "outputs": []
    },
    {
      "cell_type": "markdown",
      "source": [
        "### 使用 keras 影像的 preprocessing 副程式 ImageDataGenerator 產生器從目錄中讀取影像"
      ],
      "metadata": {
        "id": "LZLVBn-oT4cz"
      }
    },
    {
      "cell_type": "code",
      "source": [
        "from tensorflow.keras.preprocessing.image import ImageDataGenerator\n",
        "\n",
        "#設定訓練、測試資料的 Python 產生器，並將圖片像素值依 1/255 比例重新壓縮到 [0, 1]\n",
        "image_datagen = ImageDataGenerator(rescale=1./255)\n",
        "\n",
        "train_generator = image_datagen.flow_from_directory(\n",
        "    train_dir,            #目標目錄\n",
        "    target_size=(150, 150), #調整所有影像大小成 150x150\n",
        "    batch_size=20,          #每次抓20筆資料\n",
        "    class_mode='binary')    #答案只有貓跟狗兩種，所以使用二位元標籤\n",
        "\n",
        "validation_generator = image_datagen.flow_from_directory(\n",
        "    validation_dir,\n",
        "    target_size=(150, 150),\n",
        "    batch_size=20,\n",
        "    class_mode='binary')\n",
        "\n",
        "test_generator = image_datagen.flow_from_directory(\n",
        "    test_dir,\n",
        "    target_size=(150, 150),\n",
        "    batch_size=20,\n",
        "    class_mode='binary')"
      ],
      "metadata": {
        "colab": {
          "base_uri": "https://localhost:8080/"
        },
        "id": "RyqcmHapKyqT",
        "outputId": "15e58516-1d70-4878-ef11-a6e9fbd0e3ce"
      },
      "execution_count": null,
      "outputs": [
        {
          "output_type": "stream",
          "name": "stdout",
          "text": [
            "Found 2000 images belonging to 2 classes.\n",
            "Found 1000 images belonging to 2 classes.\n",
            "Found 1000 images belonging to 2 classes.\n"
          ]
        }
      ]
    },
    {
      "cell_type": "code",
      "source": [
        "train_generator[0][0].shape"
      ],
      "metadata": {
        "colab": {
          "base_uri": "https://localhost:8080/"
        },
        "id": "coYXfcLKacQi",
        "outputId": "44568d05-d8a5-4570-fd61-acd9bc9278cb"
      },
      "execution_count": null,
      "outputs": [
        {
          "output_type": "execute_result",
          "data": {
            "text/plain": [
              "(20, 150, 150, 3)"
            ]
          },
          "metadata": {},
          "execution_count": 11
        }
      ]
    },
    {
      "cell_type": "code",
      "source": [
        "train_generator[0][1]"
      ],
      "metadata": {
        "colab": {
          "base_uri": "https://localhost:8080/"
        },
        "id": "p9cc4VS6cxt5",
        "outputId": "3fd66452-5054-48d6-c773-66214e76078e"
      },
      "execution_count": null,
      "outputs": [
        {
          "output_type": "execute_result",
          "data": {
            "text/plain": [
              "array([0., 1., 1., 1., 1., 1., 1., 1., 1., 0., 0., 1., 1., 0., 0., 1., 1.,\n",
              "       0., 0., 1.], dtype=float32)"
            ]
          },
          "metadata": {},
          "execution_count": 12
        }
      ]
    },
    {
      "cell_type": "code",
      "source": [
        "#看看產生器的輸出結果(只抓取一筆看看)\n",
        "for data_batch, labels_batch in train_generator:\n",
        "    print('data batch shape:', data_batch.shape)\n",
        "    print('labels batch shape:', labels_batch.shape)\n",
        "    break"
      ],
      "metadata": {
        "colab": {
          "base_uri": "https://localhost:8080/"
        },
        "id": "hIO9WC4FKyxR",
        "outputId": "3240fd78-e298-469e-c79d-7fb15e4b3d83"
      },
      "execution_count": null,
      "outputs": [
        {
          "output_type": "stream",
          "name": "stdout",
          "text": [
            "data batch shape: (20, 150, 150, 3)\n",
            "labels batch shape: (20,)\n"
          ]
        }
      ]
    },
    {
      "cell_type": "code",
      "source": [
        "run = model.fit(\n",
        "    train_generator,\n",
        "    steps_per_epoch=100,\n",
        "    epochs=30,\n",
        "    validation_data=validation_generator,\n",
        "    validation_steps=50)"
      ],
      "metadata": {
        "colab": {
          "base_uri": "https://localhost:8080/"
        },
        "id": "XD91NmYSKy3L",
        "outputId": "474fb4a8-f600-464e-9783-b00abe8793f6"
      },
      "execution_count": null,
      "outputs": [
        {
          "output_type": "stream",
          "name": "stdout",
          "text": [
            "Epoch 1/30\n",
            "100/100 [==============================] - 107s 1s/step - loss: 0.6932 - acc: 0.5425 - val_loss: 0.6767 - val_acc: 0.5430\n",
            "Epoch 2/30\n",
            "100/100 [==============================] - 106s 1s/step - loss: 0.6671 - acc: 0.6060 - val_loss: 0.6877 - val_acc: 0.5390\n",
            "Epoch 3/30\n",
            "100/100 [==============================] - 107s 1s/step - loss: 0.6223 - acc: 0.6535 - val_loss: 0.6231 - val_acc: 0.6430\n",
            "Epoch 4/30\n",
            "100/100 [==============================] - 112s 1s/step - loss: 0.5729 - acc: 0.7020 - val_loss: 0.5979 - val_acc: 0.6830\n",
            "Epoch 5/30\n",
            "100/100 [==============================] - 127s 1s/step - loss: 0.5312 - acc: 0.7270 - val_loss: 0.5800 - val_acc: 0.6890\n",
            "Epoch 6/30\n",
            "100/100 [==============================] - 127s 1s/step - loss: 0.5066 - acc: 0.7460 - val_loss: 0.6134 - val_acc: 0.6810\n",
            "Epoch 7/30\n",
            "100/100 [==============================] - 111s 1s/step - loss: 0.4757 - acc: 0.7710 - val_loss: 0.5941 - val_acc: 0.6940\n",
            "Epoch 8/30\n",
            "100/100 [==============================] - 107s 1s/step - loss: 0.4453 - acc: 0.7900 - val_loss: 0.5385 - val_acc: 0.7270\n",
            "Epoch 9/30\n",
            "100/100 [==============================] - 107s 1s/step - loss: 0.4106 - acc: 0.8115 - val_loss: 0.5363 - val_acc: 0.7400\n",
            "Epoch 10/30\n",
            "100/100 [==============================] - 107s 1s/step - loss: 0.3916 - acc: 0.8225 - val_loss: 0.5374 - val_acc: 0.7340\n",
            "Epoch 11/30\n",
            "100/100 [==============================] - 107s 1s/step - loss: 0.3652 - acc: 0.8415 - val_loss: 0.5953 - val_acc: 0.7170\n",
            "Epoch 12/30\n",
            "100/100 [==============================] - 108s 1s/step - loss: 0.3388 - acc: 0.8525 - val_loss: 0.5798 - val_acc: 0.7220\n",
            "Epoch 13/30\n",
            "100/100 [==============================] - 108s 1s/step - loss: 0.3174 - acc: 0.8640 - val_loss: 0.5896 - val_acc: 0.7330\n",
            "Epoch 14/30\n",
            "100/100 [==============================] - 108s 1s/step - loss: 0.2889 - acc: 0.8715 - val_loss: 0.6000 - val_acc: 0.7200\n",
            "Epoch 15/30\n",
            "100/100 [==============================] - 107s 1s/step - loss: 0.2678 - acc: 0.8900 - val_loss: 0.5535 - val_acc: 0.7460\n",
            "Epoch 16/30\n",
            "100/100 [==============================] - 108s 1s/step - loss: 0.2457 - acc: 0.8950 - val_loss: 0.9014 - val_acc: 0.6800\n",
            "Epoch 17/30\n",
            "100/100 [==============================] - 108s 1s/step - loss: 0.2183 - acc: 0.9090 - val_loss: 0.6094 - val_acc: 0.7390\n",
            "Epoch 18/30\n",
            "100/100 [==============================] - 108s 1s/step - loss: 0.2006 - acc: 0.9230 - val_loss: 0.6687 - val_acc: 0.7350\n",
            "Epoch 19/30\n",
            "100/100 [==============================] - 108s 1s/step - loss: 0.1788 - acc: 0.9340 - val_loss: 0.6233 - val_acc: 0.7440\n",
            "Epoch 20/30\n",
            "100/100 [==============================] - 108s 1s/step - loss: 0.1480 - acc: 0.9485 - val_loss: 0.9389 - val_acc: 0.6850\n",
            "Epoch 21/30\n",
            "100/100 [==============================] - 108s 1s/step - loss: 0.1405 - acc: 0.9565 - val_loss: 0.7805 - val_acc: 0.7220\n",
            "Epoch 22/30\n",
            "100/100 [==============================] - 109s 1s/step - loss: 0.1165 - acc: 0.9625 - val_loss: 0.8961 - val_acc: 0.7130\n",
            "Epoch 23/30\n",
            "100/100 [==============================] - 108s 1s/step - loss: 0.1086 - acc: 0.9610 - val_loss: 0.7905 - val_acc: 0.7250\n",
            "Epoch 24/30\n",
            "100/100 [==============================] - 108s 1s/step - loss: 0.0904 - acc: 0.9720 - val_loss: 0.7981 - val_acc: 0.7290\n",
            "Epoch 25/30\n",
            "100/100 [==============================] - 108s 1s/step - loss: 0.0776 - acc: 0.9770 - val_loss: 0.8708 - val_acc: 0.7170\n",
            "Epoch 26/30\n",
            "100/100 [==============================] - 107s 1s/step - loss: 0.0661 - acc: 0.9825 - val_loss: 0.9134 - val_acc: 0.7270\n",
            "Epoch 27/30\n",
            "100/100 [==============================] - 107s 1s/step - loss: 0.0550 - acc: 0.9840 - val_loss: 0.8988 - val_acc: 0.7390\n",
            "Epoch 28/30\n",
            "100/100 [==============================] - 107s 1s/step - loss: 0.0459 - acc: 0.9910 - val_loss: 0.9531 - val_acc: 0.7360\n",
            "Epoch 29/30\n",
            "100/100 [==============================] - 107s 1s/step - loss: 0.0384 - acc: 0.9925 - val_loss: 1.0075 - val_acc: 0.7390\n",
            "Epoch 30/30\n",
            "100/100 [==============================] - 108s 1s/step - loss: 0.0368 - acc: 0.9910 - val_loss: 1.0028 - val_acc: 0.7240\n"
          ]
        }
      ]
    },
    {
      "cell_type": "code",
      "source": [
        "#用測試資料評估模型的準確度\n",
        "test_loss, test_acc = model.evaluate(test_generator)\n",
        "print('test_acc:', test_acc)"
      ],
      "metadata": {
        "colab": {
          "base_uri": "https://localhost:8080/"
        },
        "id": "Cpas2gecKy9K",
        "outputId": "253c9d41-e570-48e3-9a89-f1dfbb8c607a"
      },
      "execution_count": null,
      "outputs": [
        {
          "output_type": "stream",
          "name": "stdout",
          "text": [
            "50/50 [==============================] - 16s 307ms/step - loss: 0.9615 - acc: 0.7210\n",
            "test_acc: 0.7210000157356262\n"
          ]
        }
      ]
    },
    {
      "cell_type": "code",
      "source": [
        "#儲存模型\n",
        "model.save('CNN_cats&dogs_small.h5')"
      ],
      "metadata": {
        "id": "KNsEakxDKzC6"
      },
      "execution_count": null,
      "outputs": []
    },
    {
      "cell_type": "markdown",
      "source": [
        "### 分別繪製訓練過程中模型在訓練數據和驗證數據上的損失和精度"
      ],
      "metadata": {
        "id": "-0X_gd9JFa6u"
      }
    },
    {
      "cell_type": "code",
      "source": [
        "import matplotlib.pyplot as plt\n",
        "\n",
        "acc = run.history['acc']\n",
        "val_acc = run.history['val_acc']\n",
        "loss = run.history['loss']\n",
        "val_loss = run.history['val_loss']\n",
        "\n",
        "epochs = range(len(acc))\n",
        "\n",
        "plt.plot(epochs, acc, 'bo', label='Training acc')\n",
        "plt.plot(epochs, val_acc, 'b', label='Validation acc')\n",
        "plt.title('Training and validation accuracy')\n",
        "plt.legend()\n",
        "\n",
        "plt.figure()\n",
        "\n",
        "plt.plot(epochs, loss, 'bo', label='Training loss')\n",
        "plt.plot(epochs, val_loss, 'b', label='Validation loss')\n",
        "plt.title('Training and validation loss')\n",
        "plt.legend()\n",
        "\n",
        "plt.show()"
      ],
      "metadata": {
        "colab": {
          "base_uri": "https://localhost:8080/",
          "height": 545
        },
        "id": "qs8pFH_PFaD1",
        "outputId": "0a781f31-0a17-4f02-9392-faf1428de9b4"
      },
      "execution_count": null,
      "outputs": [
        {
          "output_type": "display_data",
          "data": {
            "text/plain": [
              "<Figure size 432x288 with 1 Axes>"
            ],
            "image/png": "[encoded data removed]"
          },
          "metadata": {
            "needs_background": "light"
          }
        },
        {
          "output_type": "display_data",
          "data": {
            "text/plain": [
              "<Figure size 432x288 with 1 Axes>"
            ],
            "image/png": "[encoded data removed]"
          },
          "metadata": {
            "needs_background": "light"
          }
        }
      ]
    },
    {
      "cell_type": "markdown",
      "source": [
        "### 雖然訓練的準確率很高(99%)，但從這些圖像中能看出過擬合的特徵(因爲訓練樣本相對較少)"
      ],
      "metadata": {
        "id": "GYKeiMRrGQ_l"
      }
    },
    {
      "cell_type": "markdown",
      "source": [
        "### **使用數據增強**\n",
        "\n",
        "過擬合的原因是學習樣本太少，導致無法訓練出能夠泛化到新數據的模型。如果擁有無限的數據，那麼模型能夠觀察到數據分佈的所有內容，這樣就永遠不會過擬合。數據增強是從現有的訓練樣本中生成更多的訓練數據，其方法是利用多種能夠生成可信圖像的隨機變換來增加（augment）樣本。其目標是，模型在訓練時不會兩次查看完全相同的圖像。這讓模型能夠觀察到數據的更多內容，從而具有更好的泛化能力。"
      ],
      "metadata": {
        "id": "78avHpIqG40M"
      }
    },
    {
      "cell_type": "markdown",
      "source": [
        "## 重新訓練模型"
      ],
      "metadata": {
        "id": "lRicpnO0DyE_"
      }
    },
    {
      "cell_type": "code",
      "source": [
        "from tensorflow.keras import layers\n",
        "from tensorflow.keras import models\n",
        "\n",
        "model = models.Sequential()\n",
        "model.add(layers.Conv2D(32, (3, 3), activation='relu',\n",
        "                        input_shape=(150, 150, 3)))\n",
        "model.add(layers.MaxPooling2D((2, 2)))\n",
        "model.add(layers.Conv2D(64, (3, 3), activation='relu'))\n",
        "model.add(layers.MaxPooling2D((2, 2)))\n",
        "model.add(layers.Conv2D(128, (3, 3), activation='relu'))\n",
        "model.add(layers.MaxPooling2D((2, 2)))\n",
        "model.add(layers.Conv2D(128, (3, 3), activation='relu'))\n",
        "model.add(layers.MaxPooling2D((2, 2)))\n",
        "model.add(layers.Flatten())\n",
        "model.add(layers.Dropout(0.5))\n",
        "model.add(layers.Dense(512, activation='relu'))\n",
        "model.add(layers.Dense(1, activation='sigmoid'))\n",
        "\n",
        "model.compile(loss='binary_crossentropy',\n",
        "              optimizer=optimizers.RMSprop(learning_rate=1e-4),\n",
        "              metrics=['acc'])"
      ],
      "metadata": {
        "id": "g0UQ8chkDwRP"
      },
      "execution_count": null,
      "outputs": []
    },
    {
      "cell_type": "code",
      "source": [
        "#訓練這個使用了數據增強和 dropout 的網絡\n",
        "train_datagen = ImageDataGenerator(\n",
        "    rescale=1./255,\n",
        "    rotation_range=40, #角度值（在 0~180 範圍內），表示圖像隨機旋轉的角度範圍\n",
        "    width_shift_range=0.2, #圖像在水平方向上平移的範圍（相對於總寬度或總高度的比例）\n",
        "    height_shift_range=0.2, #圖像在垂直方向上平移的範圍（相對於總寬度或總高度的比例）\n",
        "    shear_range=0.2, #隨機錯切變換的角度\n",
        "    zoom_range=0.2, #圖像隨機縮放的範圍 \n",
        "    horizontal_flip=True,) #隨機將一半圖像水平翻轉\n",
        "\n",
        "#注意，不能增強驗證數據\n",
        "valid_datagen = ImageDataGenerator(rescale=1./255)\n",
        "\n",
        "train_generator = train_datagen.flow_from_directory(\n",
        "        train_dir,\n",
        "        target_size=(150, 150),\n",
        "        batch_size=32, #這次取每次抓32筆資料\n",
        "        class_mode='binary')\n",
        "\n",
        "validation_generator = valid_datagen.flow_from_directory(\n",
        "        validation_dir,\n",
        "        target_size=(150, 150),\n",
        "        batch_size=32,\n",
        "        class_mode='binary')"
      ],
      "metadata": {
        "colab": {
          "base_uri": "https://localhost:8080/"
        },
        "id": "OLmcebk0D7Mu",
        "outputId": "9943c152-e93d-4b41-faa2-44128df53715"
      },
      "execution_count": null,
      "outputs": [
        {
          "output_type": "stream",
          "name": "stdout",
          "text": [
            "Found 2000 images belonging to 2 classes.\n",
            "Found 1000 images belonging to 2 classes.\n"
          ]
        }
      ]
    },
    {
      "cell_type": "code",
      "source": [
        "run = model.fit(\n",
        "      train_generator,\n",
        "      steps_per_epoch=60, #2000(總共)/32(每次抓取) ＝ 62.5 抓個大概60\n",
        "      epochs=50, \n",
        "      validation_data=validation_generator,\n",
        "      validation_steps=30) #1000/32 ＝ 31.25 抓個大概30"
      ],
      "metadata": {
        "colab": {
          "base_uri": "https://localhost:8080/"
        },
        "id": "D8hPkyTJD7Sh",
        "outputId": "8a18cbbe-0949-4ef7-ab21-ab645899648f"
      },
      "execution_count": null,
      "outputs": [
        {
          "output_type": "stream",
          "name": "stdout",
          "text": [
            "Epoch 1/50\n",
            "60/60 [==============================] - 111s 2s/step - loss: 0.6938 - acc: 0.5026 - val_loss: 0.6976 - val_acc: 0.4979\n",
            "Epoch 2/50\n",
            "60/60 [==============================] - 108s 2s/step - loss: 0.6914 - acc: 0.5352 - val_loss: 0.6809 - val_acc: 0.6042\n",
            "Epoch 3/50\n",
            "60/60 [==============================] - 108s 2s/step - loss: 0.6813 - acc: 0.5704 - val_loss: 0.6681 - val_acc: 0.5854\n",
            "Epoch 4/50\n",
            "60/60 [==============================] - 107s 2s/step - loss: 0.6730 - acc: 0.5746 - val_loss: 0.6665 - val_acc: 0.5917\n",
            "Epoch 5/50\n",
            "60/60 [==============================] - 108s 2s/step - loss: 0.6702 - acc: 0.5830 - val_loss: 0.6870 - val_acc: 0.5490\n",
            "Epoch 6/50\n",
            "60/60 [==============================] - 108s 2s/step - loss: 0.6614 - acc: 0.5966 - val_loss: 0.6336 - val_acc: 0.6396\n",
            "Epoch 7/50\n",
            "60/60 [==============================] - 108s 2s/step - loss: 0.6523 - acc: 0.6150 - val_loss: 0.6320 - val_acc: 0.6375\n",
            "Epoch 8/50\n",
            "60/60 [==============================] - 108s 2s/step - loss: 0.6473 - acc: 0.6203 - val_loss: 0.6270 - val_acc: 0.6510\n",
            "Epoch 9/50\n",
            "60/60 [==============================] - 108s 2s/step - loss: 0.6408 - acc: 0.6418 - val_loss: 0.6067 - val_acc: 0.6656\n",
            "Epoch 10/50\n",
            "60/60 [==============================] - 107s 2s/step - loss: 0.6418 - acc: 0.6366 - val_loss: 0.6095 - val_acc: 0.6573\n",
            "Epoch 11/50\n",
            "60/60 [==============================] - 108s 2s/step - loss: 0.6230 - acc: 0.6439 - val_loss: 0.5896 - val_acc: 0.6750\n",
            "Epoch 12/50\n",
            "60/60 [==============================] - 108s 2s/step - loss: 0.6144 - acc: 0.6591 - val_loss: 0.5754 - val_acc: 0.6885\n",
            "Epoch 13/50\n",
            "60/60 [==============================] - 108s 2s/step - loss: 0.6072 - acc: 0.6696 - val_loss: 0.5761 - val_acc: 0.6948\n",
            "Epoch 14/50\n",
            "60/60 [==============================] - 108s 2s/step - loss: 0.5961 - acc: 0.6823 - val_loss: 0.5968 - val_acc: 0.6802\n",
            "Epoch 15/50\n",
            "60/60 [==============================] - 108s 2s/step - loss: 0.5949 - acc: 0.6812 - val_loss: 0.5961 - val_acc: 0.6604\n",
            "Epoch 16/50\n",
            "60/60 [==============================] - 109s 2s/step - loss: 0.5801 - acc: 0.6938 - val_loss: 0.5354 - val_acc: 0.7240\n",
            "Epoch 17/50\n",
            "60/60 [==============================] - 108s 2s/step - loss: 0.5833 - acc: 0.6875 - val_loss: 0.5848 - val_acc: 0.6812\n",
            "Epoch 18/50\n",
            "60/60 [==============================] - 108s 2s/step - loss: 0.5737 - acc: 0.6928 - val_loss: 0.5688 - val_acc: 0.6990\n",
            "Epoch 19/50\n",
            "60/60 [==============================] - 109s 2s/step - loss: 0.5743 - acc: 0.6933 - val_loss: 0.5477 - val_acc: 0.7146\n",
            "Epoch 20/50\n",
            "60/60 [==============================] - 108s 2s/step - loss: 0.5682 - acc: 0.6985 - val_loss: 0.5229 - val_acc: 0.7302\n",
            "Epoch 21/50\n",
            "60/60 [==============================] - 108s 2s/step - loss: 0.5671 - acc: 0.6917 - val_loss: 0.5107 - val_acc: 0.7354\n",
            "Epoch 22/50\n",
            "60/60 [==============================] - 108s 2s/step - loss: 0.5641 - acc: 0.7148 - val_loss: 0.5418 - val_acc: 0.7135\n",
            "Epoch 23/50\n",
            "60/60 [==============================] - 110s 2s/step - loss: 0.5523 - acc: 0.7138 - val_loss: 0.5057 - val_acc: 0.7365\n",
            "Epoch 24/50\n",
            "60/60 [==============================] - 108s 2s/step - loss: 0.5542 - acc: 0.7138 - val_loss: 0.4975 - val_acc: 0.7458\n",
            "Epoch 25/50\n",
            "60/60 [==============================] - 108s 2s/step - loss: 0.5423 - acc: 0.7195 - val_loss: 0.5405 - val_acc: 0.7292\n",
            "Epoch 26/50\n",
            "60/60 [==============================] - 109s 2s/step - loss: 0.5511 - acc: 0.7122 - val_loss: 0.5079 - val_acc: 0.7490\n",
            "Epoch 27/50\n",
            "60/60 [==============================] - 110s 2s/step - loss: 0.5367 - acc: 0.7198 - val_loss: 0.4979 - val_acc: 0.7479\n",
            "Epoch 28/50\n",
            "60/60 [==============================] - 108s 2s/step - loss: 0.5458 - acc: 0.7211 - val_loss: 0.5874 - val_acc: 0.6938\n",
            "Epoch 29/50\n",
            "60/60 [==============================] - 109s 2s/step - loss: 0.5520 - acc: 0.7190 - val_loss: 0.4857 - val_acc: 0.7615\n",
            "Epoch 30/50\n",
            "60/60 [==============================] - 108s 2s/step - loss: 0.5447 - acc: 0.7190 - val_loss: 0.4965 - val_acc: 0.7552\n",
            "Epoch 31/50\n",
            "60/60 [==============================] - 110s 2s/step - loss: 0.5308 - acc: 0.7344 - val_loss: 0.4807 - val_acc: 0.7604\n",
            "Epoch 32/50\n",
            "60/60 [==============================] - 109s 2s/step - loss: 0.5248 - acc: 0.7411 - val_loss: 0.5041 - val_acc: 0.7490\n",
            "Epoch 33/50\n",
            "60/60 [==============================] - 109s 2s/step - loss: 0.5290 - acc: 0.7269 - val_loss: 0.5502 - val_acc: 0.7312\n",
            "Epoch 34/50\n",
            "60/60 [==============================] - 109s 2s/step - loss: 0.5314 - acc: 0.7253 - val_loss: 0.4728 - val_acc: 0.7698\n",
            "Epoch 35/50\n",
            "60/60 [==============================] - 109s 2s/step - loss: 0.5198 - acc: 0.7405 - val_loss: 0.4955 - val_acc: 0.7406\n",
            "Epoch 36/50\n",
            "60/60 [==============================] - 109s 2s/step - loss: 0.5281 - acc: 0.7390 - val_loss: 0.5414 - val_acc: 0.7437\n",
            "Epoch 37/50\n",
            "60/60 [==============================] - 109s 2s/step - loss: 0.5265 - acc: 0.7369 - val_loss: 0.4859 - val_acc: 0.7604\n",
            "Epoch 38/50\n",
            "60/60 [==============================] - 109s 2s/step - loss: 0.5212 - acc: 0.7437 - val_loss: 0.5178 - val_acc: 0.7448\n",
            "Epoch 39/50\n",
            "60/60 [==============================] - 109s 2s/step - loss: 0.5146 - acc: 0.7390 - val_loss: 0.5195 - val_acc: 0.7188\n",
            "Epoch 40/50\n",
            "60/60 [==============================] - 110s 2s/step - loss: 0.5026 - acc: 0.7511 - val_loss: 0.4985 - val_acc: 0.7437\n",
            "Epoch 41/50\n",
            "60/60 [==============================] - 109s 2s/step - loss: 0.4953 - acc: 0.7658 - val_loss: 0.4651 - val_acc: 0.7781\n",
            "Epoch 42/50\n",
            "60/60 [==============================] - 107s 2s/step - loss: 0.5106 - acc: 0.7489 - val_loss: 0.4751 - val_acc: 0.7688\n",
            "Epoch 43/50\n",
            "60/60 [==============================] - 109s 2s/step - loss: 0.4963 - acc: 0.7495 - val_loss: 0.5385 - val_acc: 0.7458\n",
            "Epoch 44/50\n",
            "60/60 [==============================] - 110s 2s/step - loss: 0.5111 - acc: 0.7458 - val_loss: 0.4742 - val_acc: 0.7594\n",
            "Epoch 45/50\n",
            "60/60 [==============================] - 109s 2s/step - loss: 0.5011 - acc: 0.7553 - val_loss: 0.5188 - val_acc: 0.7323\n",
            "Epoch 46/50\n",
            "60/60 [==============================] - 109s 2s/step - loss: 0.4917 - acc: 0.7615 - val_loss: 0.5376 - val_acc: 0.7219\n",
            "Epoch 47/50\n",
            "60/60 [==============================] - 109s 2s/step - loss: 0.4927 - acc: 0.7595 - val_loss: 0.4794 - val_acc: 0.7646\n",
            "Epoch 48/50\n",
            "60/60 [==============================] - 109s 2s/step - loss: 0.5021 - acc: 0.7663 - val_loss: 0.4757 - val_acc: 0.7635\n",
            "Epoch 49/50\n",
            "60/60 [==============================] - 108s 2s/step - loss: 0.4899 - acc: 0.7542 - val_loss: 0.4612 - val_acc: 0.7750\n",
            "Epoch 50/50\n",
            "60/60 [==============================] - 108s 2s/step - loss: 0.4960 - acc: 0.7568 - val_loss: 0.4478 - val_acc: 0.7917\n"
          ]
        }
      ]
    },
    {
      "cell_type": "code",
      "source": [
        "#儲存模型\n",
        "model.save('cats_and_dogs_small_2.h5')"
      ],
      "metadata": {
        "id": "-yX3gTXxD7YS"
      },
      "execution_count": null,
      "outputs": []
    },
    {
      "cell_type": "code",
      "source": [
        "#再次畫出結果\n",
        "acc = run.history['acc']\n",
        "val_acc = run.history['val_acc']\n",
        "loss = run.history['loss']\n",
        "val_loss = run.history['val_loss']\n",
        "\n",
        "epochs = range(len(acc))\n",
        "\n",
        "plt.plot(epochs, acc, 'bo', label='Training acc')\n",
        "plt.plot(epochs, val_acc, 'b', label='Validation acc')\n",
        "plt.title('Training and validation accuracy')\n",
        "plt.legend()\n",
        "\n",
        "plt.figure()\n",
        "\n",
        "plt.plot(epochs, loss, 'bo', label='Training loss')\n",
        "plt.plot(epochs, val_loss, 'b', label='Validation loss')\n",
        "plt.title('Training and validation loss')\n",
        "plt.legend()\n",
        "\n",
        "plt.show()"
      ],
      "metadata": {
        "colab": {
          "base_uri": "https://localhost:8080/",
          "height": 545
        },
        "id": "K74c-sFSD7d_",
        "outputId": "9765fc32-b9f5-4487-a54b-d9feb692b75e"
      },
      "execution_count": null,
      "outputs": [
        {
          "output_type": "display_data",
          "data": {
            "text/plain": [
              "<Figure size 432x288 with 1 Axes>"
            ],
            "image/png": "[encoded data removed]"
          },
          "metadata": {
            "needs_background": "light"
          }
        },
        {
          "output_type": "display_data",
          "data": {
            "text/plain": [
              "<Figure size 432x288 with 1 Axes>"
            ],
            "image/png": "[encoded data removed]"
          },
          "metadata": {
            "needs_background": "light"
          }
        }
      ]
    },
    {
      "cell_type": "markdown",
      "source": [
        "### 由重新訓練過後的上圖可以看到使用數據增強後的Training acc有隨著Validation acc一起移動了，表示此模型沒有發生過度擬合的情形，且驗證準確率也到達了80%左右(如過設定epoch更高的話可以達到更高的準確率，但因為跑的時間有點久，所以這邊只設定epoch=50)"
      ],
      "metadata": {
        "id": "DMd5GifNWk2A"
      }
    },
    {
      "cell_type": "code",
      "source": [
        ""
      ],
      "metadata": {
        "id": "x2fB7xikD7kg"
      },
      "execution_count": null,
      "outputs": []
    }
  ]
}